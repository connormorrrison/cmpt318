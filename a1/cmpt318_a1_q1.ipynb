{
 "cells": [
  {
   "cell_type": "markdown",
   "metadata": {
    "id": "MH6d4w6M9Ven"
   },
   "source": [
    "# CMPT 318 - Assignment 1 (Question 1) [20 points]\n",
    "\n",
    "**Due**: Friday, February 7, 11:59pm.\n",
    "\n",
    "**Instructions**\n",
    "\n",
    "1. This assignment is designed to help you practice Python and enhance your coding skills. You **CANNOT** use advanced library functions; instead, you should implement solutions using functions, loops, and conditionals. While basic built-in Python functions like `range`, `insert`, and `len` are allowed, you may **NOT** use functions that directly solve the problem, such as `reverse` for reversing a list.\n",
    "2. You are **NOT** allowed to use any online aids (e.g., generative AI tools like ChatGPT) to solve problems in this assignment.\n",
    "3. Make sure to run each cell so that the output of each cell is visible.\n",
    "\n"
   ]
  },
  {
   "cell_type": "markdown",
   "metadata": {
    "id": "Rl_mJZqA9Vep"
   },
   "source": [
    "**Enter your details below:**\n",
    "\n",
    "First Name: Connor\n",
    "Last Name: Morrison\n",
    "Student ID 11374770"
   ]
  },
  {
   "cell_type": "markdown",
   "metadata": {
    "id": "Ji-nFi-99Ver"
   },
   "source": [
    "## Problem 1: Counting (3 points):\n",
    "\n",
    "Write a Python function that determines how many odd numbers are present in a list. You can assume the list will only contain numerical values.\n",
    "\n"
   ]
  },
  {
   "cell_type": "code",
   "execution_count": 2,
   "metadata": {
    "id": "wr1jIaP59Ves"
   },
   "outputs": [],
   "source": [
    "def count_odd_numbers(list_numbers):\n",
    "# TODO: BEGIN YOUR CODE HERE (DO NOT DELETE/MODIFY THIS LINE)\n",
    "    count = 0\n",
    "    for number in list_numbers:\n",
    "        if number % 2 != 0:\n",
    "            count += 1\n",
    "    return count\n",
    "\n",
    "# END YOUR CODE HERE (DO NOT DELETE/MODIFY THIS LINE)"
   ]
  },
  {
   "cell_type": "code",
   "execution_count": 3,
   "metadata": {
    "id": "HVIPPmuP9Vet"
   },
   "outputs": [
    {
     "name": "stdout",
     "output_type": "stream",
     "text": [
      "4\n",
      "0\n"
     ]
    }
   ],
   "source": [
    "# Example test cases\n",
    "print(count_odd_numbers([-15, -112, 14, -29, 17, 360, 86, 128, -12, 0, 23]))\n",
    "print(count_odd_numbers([])) # Expected: 0"
   ]
  },
  {
   "cell_type": "code",
   "execution_count": 4,
   "metadata": {
    "id": "aO7Lo8WyYY-Q"
   },
   "outputs": [
    {
     "name": "stdout",
     "output_type": "stream",
     "text": [
      "3\n"
     ]
    }
   ],
   "source": [
    "# TODO: WRITE ANOTHER EXAMPLE TEST CASE FOR THE ABOVE FUNCTION BELOW (DO NOT DELETE/MODIFY THIS LINE)\n",
    "print(count_odd_numbers([-1, -1, -2, 5, 0]))"
   ]
  },
  {
   "cell_type": "markdown",
   "metadata": {
    "id": "ohrWTVIt9Veu"
   },
   "source": [
    "## Problem 2: Reverse a List (3 points)\n",
    "\n",
    "Write a function `reverse_list` that accepts a list as a parameter and reverses the order of its elements. The function should use a loop to process each element and reverse the list."
   ]
  },
  {
   "cell_type": "code",
   "execution_count": 5,
   "metadata": {
    "id": "zr-oNO5H9Vev"
   },
   "outputs": [],
   "source": [
    "def reverse_list(lst):\n",
    "# TODO: BEGIN YOUR CODE HERE (DO NOT DELETE/MODIFY THIS LINE)\n",
    "    left = 0\n",
    "    right = len(lst) - 1\n",
    "\n",
    "    i = 0\n",
    "    while left < right:\n",
    "        lst[left], lst[right] = lst[right], lst[left]\n",
    "        left += 1\n",
    "        right -= 1\n",
    "        i += 1\n",
    "\n",
    "    return lst\n",
    "\n",
    "# END YOUR CODE HERE (DO NOT DELETE/MODIFY THIS LINE)"
   ]
  },
  {
   "cell_type": "code",
   "execution_count": 6,
   "metadata": {
    "id": "2Bps9lz99Vev"
   },
   "outputs": [
    {
     "name": "stdout",
     "output_type": "stream",
     "text": [
      "[4, 5, 2, 4, 2, 5, 9]\n",
      "['Winter', 'Term', 'Data', 'Analytics']\n",
      "['ML', 'Anlytics', 'Data', 225, 100, 120]\n",
      "[0]\n",
      "[]\n"
     ]
    }
   ],
   "source": [
    "# Example test cases\n",
    "print(reverse_list([9, 5, 2, 4, 2, 5, 4]))\n",
    "print(reverse_list([\"Analytics\", \"Data\", \"Term\", \"Winter\"]))\n",
    "print(reverse_list([120, 100, 225, \"Data\", \"Anlytics\", \"ML\"]))\n",
    "print(reverse_list([0]))  # Expected: [0]\n",
    "print(reverse_list([]))   # Expected: []"
   ]
  },
  {
   "cell_type": "code",
   "execution_count": 7,
   "metadata": {
    "id": "uFBgosbnYY-S"
   },
   "outputs": [
    {
     "name": "stdout",
     "output_type": "stream",
     "text": [
      "[22, 9, 8, 7, 6, 5, 4, 3, 2, 1]\n"
     ]
    }
   ],
   "source": [
    "# TODO: WRITE ANOTHER EXAMPLE TEST CASE FOR THE ABOVE FUNCTION BELOW (DO NOT DELETE/MODIFY THIS LINE)\n",
    "print(reverse_list([1, 2, 3, 4, 5, 6, 7, 8, 9, 22]))"
   ]
  },
  {
   "cell_type": "markdown",
   "metadata": {
    "id": "yxKmpVQd9Vez"
   },
   "source": [
    "## Problem 3: Convert a number to digits (4 points)\n",
    "\n",
    "Write a function that takes a number and returns a list of its digits in order, e.g., 12345 → [1, 2, 3, 4, 5].\n"
   ]
  },
  {
   "cell_type": "code",
   "execution_count": 8,
   "metadata": {
    "id": "NG72kC6t9Ve1"
   },
   "outputs": [],
   "source": [
    "def num_to_digits(num):\n",
    "# TODO: BEGIN YOUR CODE HERE (DO NOT DELETE/MODIFY THIS LINE)\n",
    "    digits_list = []\n",
    "    for char in str(num):\n",
    "        digit = int(char)\n",
    "        digits_list.append(digit)\n",
    "\n",
    "    return digits_list\n",
    "\n",
    "# END YOUR CODE HERE (DO NOT DELETE/MODIFY THIS LINE)"
   ]
  },
  {
   "cell_type": "code",
   "execution_count": 9,
   "metadata": {
    "id": "3pjI4Gut9Ve2"
   },
   "outputs": [
    {
     "name": "stdout",
     "output_type": "stream",
     "text": [
      "[6, 5, 7, 4, 9]\n",
      "[3, 1, 6, 5, 4, 4, 1, 8, 7, 1, 4, 6, 4, 1, 4, 4]\n"
     ]
    }
   ],
   "source": [
    "# Example test cases\n",
    "print(num_to_digits(65749))\n",
    "print(num_to_digits(3165441871464144))"
   ]
  },
  {
   "cell_type": "code",
   "execution_count": 10,
   "metadata": {
    "id": "SY2_ESm9YY-T"
   },
   "outputs": [
    {
     "name": "stdout",
     "output_type": "stream",
     "text": [
      "[1, 2, 3, 4, 5, 6, 7, 8, 9, 1, 0]\n"
     ]
    }
   ],
   "source": [
    "# TODO: WRITE ANOTHER EXAMPLE TEST CASE FOR THE ABOVE FUNCTION BELOW (DO NOT DELETE/MODIFY THIS LINE)\n",
    "print(num_to_digits(12345678910))"
   ]
  },
  {
   "cell_type": "markdown",
   "metadata": {
    "id": "EGYlBRFG9Ve7"
   },
   "source": [
    "## Problem 4: Generate Pell Numbers (5 points)\n",
    "\n",
    "Write a function that computes first `n` [Pell numbers](https://mathworld.wolfram.com/PellNumber.html), store them in an array, and then returns the array for printing.\n",
    "\n",
    "The Pell numbers can be generated via a relation where `Pell(i) = 2 * Pell(i-1) + Pell(i-2)` with `Pell(0) = 0` and `Pell(1) = 1`.\n",
    "\n",
    "For example, `generate_pell_numbers(4)` should return `[Pell(0), Pell(1), Pell(2), Pell(3)]` --> `[0, 1, 2, 5]`."
   ]
  },
  {
   "cell_type": "code",
   "execution_count": 11,
   "metadata": {
    "id": "KLhYmYjw9Ve8"
   },
   "outputs": [
    {
     "name": "stdout",
     "output_type": "stream",
     "text": [
      "[0, 1, 2, 5, 12, 29, 70, 169, 408]\n"
     ]
    }
   ],
   "source": [
    "def generate_pell_numbers(n):\n",
    "# TODO: BEGIN YOUR CODE HERE (DO NOT DELETE/MODIFY THIS LINE)\n",
    "    if n == 0:\n",
    "        return [0]\n",
    "\n",
    "    if n == 1:\n",
    "        return [0, 1]\n",
    "\n",
    "    pell_numbers = [0, 1]\n",
    "    for num in range(2, n):\n",
    "        pell_numbers.append(2 * pell_numbers[num-1] + pell_numbers[num-2])\n",
    "\n",
    "    return pell_numbers\n",
    "\n",
    "# END YOUR CODE HERE (DO NOT DELETE/MODIFY THIS LINE)\n",
    "\n",
    "# Example test case\n",
    "n = 9\n",
    "result = generate_pell_numbers(n)\n",
    "print(result)"
   ]
  },
  {
   "cell_type": "markdown",
   "metadata": {
    "id": "6ycInDlR9Ve9"
   },
   "source": [
    "# Problem 5: Rolling Average of Daily Exercise (5 points)\n",
    "\n",
    "Write a function `rolling_average` that takes a list of minutes spent exercising each day, and computes a moving average over every consecutive `k` days. Some days will be missing measurements and will instead have the value `None`.\n",
    "\n",
    "**Note:**\n",
    "* Include `None` values in the window but do not count them when calculating the average. `None` values should be treated as \"missing data\" and should not contribute to the sum or affect the average.\n",
    "  * e.g.,`rolling_average([87, None, 92], 3)` should return `[89.5]`. `k` is 3 in this case.\n",
    "* If all days in a window are `None`, the average for that window should be `None`, as there are no valid measurements to compute the average.\n",
    "  * e.g., `rolling_average([None, None, 53], 2)` should return `[None, 53]`\n",
    "* Only compute averages as long as you have enough data points to fill the window.\n",
    "  * e.g., `rolling_average([100, 25, 30, 45, 50, 60, 75, 80], 7)` should return a list of length 2 as there are only two full windows of size 7.\n",
    "  * e.g., `rolling_average([120, 240, 30, 45, 55], 2)` should return a list of length 4.\n",
    "  * e.g., `rolling_average([100, 200, 35], 4)` should return an empty list."
   ]
  },
  {
   "cell_type": "code",
   "execution_count": 12,
   "metadata": {
    "id": "qyQv0Ms19Ve-"
   },
   "outputs": [
    {
     "name": "stdout",
     "output_type": "stream",
     "text": [
      "[89.5]\n",
      "[None, 53.0]\n",
      "[55.0, 52.14]\n",
      "[180.0, 135.0, 37.5, 50.0]\n",
      "[]\n"
     ]
    }
   ],
   "source": [
    "# TODO: BEGIN YOUR CODE HERE (DO NOT DELETE/MODIFY THIS LINE)\n",
    "def rolling_average(lst, k):\n",
    "    result = []\n",
    "    for i in range(len(lst) - k + 1):\n",
    "        window = lst[i:i + k]\n",
    "        valid_numbers = []\n",
    "        total = 0\n",
    "        for num in window:\n",
    "            if num != None:\n",
    "                valid_numbers.append(round(num, 2))\n",
    "                total += num\n",
    "\n",
    "        if len(valid_numbers) > 0:\n",
    "            average = total / len(valid_numbers)\n",
    "            result.append(round(average, 2))\n",
    "        else:\n",
    "            result.append(None)\n",
    "\n",
    "    return result\n",
    "\n",
    "# END YOUR CODE HERE (DO NOT DELETE/MODIFY THIS LINE)\n",
    "# Example test cases\n",
    "print(rolling_average([87, None, 92], 3))  # Output: [89.5]\n",
    "print(rolling_average([None, None, 53], 2))  # Output: [None, 53]\n",
    "print(rolling_average([100, 25, 30, 45, 50, 60, 75, 80], 7))  # Output: [55, 52.14]\n",
    "print(rolling_average([120, 240, 30, 45, 55], 2))\n",
    "print(rolling_average([100, 200, 35], 4))"
   ]
  }
 ],
 "metadata": {
  "anaconda-cloud": {},
  "colab": {
   "provenance": []
  },
  "kernelspec": {
   "display_name": "Python 3 (ipykernel)",
   "language": "python",
   "name": "python3"
  },
  "language_info": {
   "codemirror_mode": {
    "name": "ipython",
    "version": 3
   },
   "file_extension": ".py",
   "mimetype": "text/x-python",
   "name": "python",
   "nbconvert_exporter": "python",
   "pygments_lexer": "ipython3",
   "version": "3.10.7"
  }
 },
 "nbformat": 4,
 "nbformat_minor": 4
}
