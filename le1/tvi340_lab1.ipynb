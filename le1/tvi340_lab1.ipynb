{
 "cells": [
  {
   "cell_type": "markdown",
   "id": "sqgrI_YONvW1",
   "metadata": {
    "id": "sqgrI_YONvW1"
   },
   "source": [
    "**Lab Exercise 1**\n",
    "\n",
    "**Instructions**:\n",
    "\n",
    "1.   Complete the missing code for the two functions ( **square_list**() and **even_or_odd_dict**() ) in the last two cells of this notebook. Make sure the outputs of these two cells are visible.\n",
    "2.   Save the notebook (File --> Save).\n",
    "3.   Once completed, rename this notebook file by replacing 'NSID' with your own USask NSID (e.g., abc123_lab1.ipynb) and submit it to Canvas by the end of the lab session.\n",
    "\n",
    "\n",
    "**Help**:\n",
    "1.   We provide several examples at the beginning of this notebook that cover some basic concepts in Python. Feel free to run each cell to see their outputs."
   ]
  },
  {
   "cell_type": "code",
   "execution_count": 1,
   "id": "mQCf2usGNvXT",
   "metadata": {
    "colab": {
     "base_uri": "https://localhost:8080/"
    },
    "id": "mQCf2usGNvXT",
    "outputId": "2445031e-fb7b-404b-ee09-5f0f2c3b2438"
   },
   "outputs": [
    {
     "name": "stdout",
     "output_type": "stream",
     "text": [
      "Concatenated String: Welcome to Data Analytics\n",
      "Repeated String: Python! Python! Python! \n"
     ]
    }
   ],
   "source": [
    "# Strings\n",
    "name = \"Data Analytics\"\n",
    "greeting = \"Welcome to \" + name  # Concatenation\n",
    "print(\"Concatenated String:\", greeting)\n",
    "\n",
    "repeated = \"Python! \" * 3  # Repetition\n",
    "print(\"Repeated String:\", repeated)"
   ]
  },
  {
   "cell_type": "code",
   "execution_count": 2,
   "id": "ORz7N8AjNvXX",
   "metadata": {
    "id": "ORz7N8AjNvXX"
   },
   "outputs": [
    {
     "name": "stdout",
     "output_type": "stream",
     "text": [
      "Initial List: ['apple', 'banana', 'cherry']\n",
      "After Adding an Element: ['apple', 'banana', 'cherry', 'orange']\n",
      "After Removing an Element: ['apple', 'cherry', 'orange']\n"
     ]
    }
   ],
   "source": [
    "# Lists\n",
    "fruits = [\"apple\", \"banana\", \"cherry\"]\n",
    "print(\"Initial List:\", fruits)\n",
    "\n",
    "fruits.append(\"orange\")  # Adding an element\n",
    "print(\"After Adding an Element:\", fruits)\n",
    "\n",
    "fruits.remove(\"banana\")  # Removing an element\n",
    "print(\"After Removing an Element:\", fruits)"
   ]
  },
  {
   "cell_type": "code",
   "execution_count": 3,
   "id": "9h2q5ed4NvXY",
   "metadata": {
    "id": "9h2q5ed4NvXY"
   },
   "outputs": [
    {
     "name": "stdout",
     "output_type": "stream",
     "text": [
      "Initial Dictionary: {'name': 'Alice', 'age': 25, 'location': 'Saskatoon'}\n",
      "After Updating a Value: {'name': 'Alice', 'age': 26, 'location': 'Saskatoon'}\n",
      "After Adding a Key-Value Pair: {'name': 'Alice', 'age': 26, 'location': 'Saskatoon', 'profession': 'Data Scientist'}\n"
     ]
    }
   ],
   "source": [
    "# Dictionaries\n",
    "person = {\"name\": \"Alice\", \"age\": 25, \"location\": \"Saskatoon\"}\n",
    "print(\"Initial Dictionary:\", person)\n",
    "\n",
    "person[\"age\"] = 26  # Updating a value\n",
    "print(\"After Updating a Value:\", person)\n",
    "\n",
    "person[\"profession\"] = \"Data Scientist\"  # Adding a key-value pair\n",
    "print(\"After Adding a Key-Value Pair:\", person)"
   ]
  },
  {
   "cell_type": "code",
   "execution_count": 4,
   "id": "Exy3W8ZsNvXb",
   "metadata": {
    "id": "Exy3W8ZsNvXb"
   },
   "outputs": [
    {
     "name": "stdout",
     "output_type": "stream",
     "text": [
      "Initial Set: {1, 2, 3, 4}\n",
      "After Adding an Element: {1, 2, 3, 4, 5}\n",
      "After Removing an Element: {1, 3, 4, 5}\n"
     ]
    }
   ],
   "source": [
    "# Sets\n",
    "numbers = {1, 2, 3, 4, 4}  # Duplicate 4 is removed\n",
    "print(\"Initial Set:\", numbers)\n",
    "\n",
    "numbers.add(5)  # Adding an element\n",
    "print(\"After Adding an Element:\", numbers)\n",
    "\n",
    "numbers.remove(2)  # Removing an element\n",
    "print(\"After Removing an Element:\", numbers)"
   ]
  },
  {
   "cell_type": "code",
   "execution_count": 5,
   "id": "-JMss9apNvXe",
   "metadata": {
    "id": "-JMss9apNvXe"
   },
   "outputs": [
    {
     "name": "stdout",
     "output_type": "stream",
     "text": [
      "Fruit: apple\n",
      "Fruit: banana\n",
      "Fruit: cherry\n"
     ]
    }
   ],
   "source": [
    "# For loop to iterate over a list\n",
    "fruits = [\"apple\", \"banana\", \"cherry\"]\n",
    "\n",
    "for fruit in fruits:\n",
    "    print(\"Fruit:\", fruit)"
   ]
  },
  {
   "cell_type": "code",
   "execution_count": 6,
   "id": "e-E8u2GYNvXf",
   "metadata": {
    "id": "e-E8u2GYNvXf"
   },
   "outputs": [
    {
     "name": "stdout",
     "output_type": "stream",
     "text": [
      "Counter: 1\n",
      "Counter: 2\n",
      "Counter: 3\n",
      "Counter: 4\n",
      "Counter: 5\n"
     ]
    }
   ],
   "source": [
    "# While loop to print numbers from 1 to 5\n",
    "counter = 1\n",
    "while counter <= 5:\n",
    "    print(\"Counter:\", counter)\n",
    "    counter += 1"
   ]
  },
  {
   "cell_type": "code",
   "execution_count": 7,
   "id": "OySu3ncdNvXi",
   "metadata": {
    "id": "OySu3ncdNvXi"
   },
   "outputs": [
    {
     "name": "stdout",
     "output_type": "stream",
     "text": [
      "1 x 1 = 1\n",
      "1 x 2 = 2\n",
      "1 x 3 = 3\n",
      "---\n",
      "2 x 1 = 2\n",
      "2 x 2 = 4\n",
      "2 x 3 = 6\n",
      "---\n",
      "3 x 1 = 3\n",
      "3 x 2 = 6\n",
      "3 x 3 = 9\n",
      "---\n"
     ]
    }
   ],
   "source": [
    "# Nested loop to create a multiplication table\n",
    "for i in range(1, 4):  # Outer loop for rows\n",
    "    for j in range(1, 4):  # Inner loop for columns\n",
    "        print(f\"{i} x {j} = {i * j}\")\n",
    "    print(\"---\")  # Separator for each row"
   ]
  },
  {
   "cell_type": "code",
   "execution_count": 8,
   "id": "rZj6HVA0NvXl",
   "metadata": {
    "id": "rZj6HVA0NvXl"
   },
   "outputs": [
    {
     "name": "stdout",
     "output_type": "stream",
     "text": [
      "Number: 1\n",
      "Number: 2\n",
      "Number: 3\n",
      "Number: 4\n",
      "Breaking the loop at: 5\n"
     ]
    }
   ],
   "source": [
    "# Using break to exit a loop\n",
    "for num in range(1, 10):\n",
    "    if num == 5:\n",
    "        print(\"Breaking the loop at:\", num)\n",
    "        break\n",
    "    print(\"Number:\", num)"
   ]
  },
  {
   "cell_type": "code",
   "execution_count": 9,
   "id": "IrzKdOp3NvXm",
   "metadata": {
    "id": "IrzKdOp3NvXm"
   },
   "outputs": [
    {
     "name": "stdout",
     "output_type": "stream",
     "text": [
      "Number: 1\n",
      "Number: 2\n",
      "Skipping number: 3\n",
      "Number: 4\n",
      "Number: 5\n"
     ]
    }
   ],
   "source": [
    "# Using continue to skip an iteration\n",
    "for num in range(1, 6):\n",
    "    if num == 3:\n",
    "        print(\"Skipping number:\", num)\n",
    "        continue\n",
    "    print(\"Number:\", num)"
   ]
  },
  {
   "cell_type": "code",
   "execution_count": 10,
   "id": "ycL5BkwgNvXp",
   "metadata": {
    "id": "ycL5BkwgNvXp"
   },
   "outputs": [
    {
     "name": "stdout",
     "output_type": "stream",
     "text": [
      "Squares: [1, 4, 9, 16, 25]\n"
     ]
    }
   ],
   "source": [
    "# Creating a list using a for loop in list comprehension\n",
    "squares = [x ** 2 for x in range(1, 6)]\n",
    "print(\"Squares:\", squares)"
   ]
  },
  {
   "cell_type": "code",
   "execution_count": 11,
   "id": "SHKHftFYNvXp",
   "metadata": {
    "id": "SHKHftFYNvXp"
   },
   "outputs": [
    {
     "name": "stdout",
     "output_type": "stream",
     "text": [
      "name: Alice\n",
      "age: 25\n",
      "location: Saskatoon\n"
     ]
    }
   ],
   "source": [
    "# Looping through a dictionary\n",
    "person = {\"name\": \"Alice\", \"age\": 25, \"location\": \"Saskatoon\"}\n",
    "\n",
    "for key, value in person.items():\n",
    "    print(f\"{key}: {value}\")"
   ]
  },
  {
   "cell_type": "code",
   "execution_count": 12,
   "id": "2bMc320sNvXq",
   "metadata": {
    "id": "2bMc320sNvXq"
   },
   "outputs": [
    {
     "name": "stdout",
     "output_type": "stream",
     "text": [
      "Fahrenheit to Celsius (32°F): 0.0\n",
      "Data point: 1\n",
      "Data point: 2\n",
      "Data point: 3\n",
      "Data point: 4\n",
      "Detected Problems: [-1, -3]\n"
     ]
    }
   ],
   "source": [
    "# Example Python Functions\n",
    "\n",
    "# Convert Fahrenheit to Celsius\n",
    "def fahr_to_celsius(fahrenheit):\n",
    "    return (fahrenheit - 32) * 5 / 9\n",
    "\n",
    "# Visualize: A simple example to display a message\n",
    "def visualize(data):\n",
    "    for item in data:\n",
    "        print(f\"Data point: {item}\")\n",
    "\n",
    "# Detect problems: Find negative numbers in a list\n",
    "def detect_problems(data):\n",
    "    problems = [num for num in data if num < 0]\n",
    "    return problems\n",
    "\n",
    "# Examples\n",
    "print(\"Fahrenheit to Celsius (32°F):\", fahr_to_celsius(32))\n",
    "visualize([1, 2, 3, 4])\n",
    "print(\"Detected Problems:\", detect_problems([-1, 2, -3, 4]))\n"
   ]
  },
  {
   "cell_type": "code",
   "execution_count": 13,
   "id": "nR6EEYALNvXt",
   "metadata": {
    "id": "nR6EEYALNvXt"
   },
   "outputs": [
    {
     "name": "stdout",
     "output_type": "stream",
     "text": [
      "Square of 5: 25\n"
     ]
    }
   ],
   "source": [
    "# Function to compute square of a number\n",
    "def square(num):\n",
    "    return num ** 2\n",
    "\n",
    "print(\"Square of 5:\", square(5))"
   ]
  },
  {
   "cell_type": "code",
   "execution_count": 14,
   "id": "hDDJe2BnNvXt",
   "metadata": {
    "id": "hDDJe2BnNvXt"
   },
   "outputs": [
    {
     "name": "stdout",
     "output_type": "stream",
     "text": [
      "Number 7 is: Odd\n"
     ]
    }
   ],
   "source": [
    "# Function to heck if a number is even or odd\n",
    "def is_even_or_odd(num):\n",
    "    if num % 2 == 0:\n",
    "        return \"Even\"\n",
    "    else:\n",
    "        return \"Odd\"\n",
    "\n",
    "print(\"Number 7 is:\", is_even_or_odd(7))"
   ]
  },
  {
   "cell_type": "code",
   "execution_count": 44,
   "id": "jBzA8_DqNvXu",
   "metadata": {
    "id": "jBzA8_DqNvXu"
   },
   "outputs": [
    {
     "name": "stdout",
     "output_type": "stream",
     "text": [
      "Squares of [2, 4, 6]: [4, 16, 36]\n"
     ]
    }
   ],
   "source": [
    "###############################################################################\n",
    "# TODO:                                                                       #\n",
    "# Question 1: Complete the 'square_list' function below.\n",
    "# The function takes a list of numbers as input and returns a new list\n",
    "# with the squares of each number in the input list.\n",
    "###############################################################################\n",
    "def square_list(nums):\n",
    "# *****BEGIN YOUR CODE (DO NOT DELETE/MODIFY THIS LINE)*****\n",
    "    new_list = []\n",
    "    \n",
    "    for num in nums:\n",
    "        num = num ** 2\n",
    "        new_list.append(num)\n",
    "        \n",
    "    return new_list\n",
    "\n",
    "\n",
    "# *****END OF YOUR CODE (DO NOT DELETE/MODIFY THIS LINE)*****\n",
    "# Testing the function\n",
    "print(\"Squares of [2, 4, 6]:\", square_list([2, 4, 6])) # Output: Squares of [2, 4, 6]: [4, 16, 36]"
   ]
  },
  {
   "cell_type": "code",
   "execution_count": 45,
   "id": "dAIk2dJjNvXx",
   "metadata": {
    "id": "dAIk2dJjNvXx"
   },
   "outputs": [
    {
     "name": "stdout",
     "output_type": "stream",
     "text": [
      "Even or Odd dictionary [2, 3, 4]: {2: 'Even', 3: 'Odd', 4: 'Even'}\n"
     ]
    }
   ],
   "source": [
    "###############################################################################\n",
    "# TODO:                                                                       #\n",
    "# Question 2: Complete the 'even_or_odd_dict' function below.\n",
    "# The function takes a list of numbers as input and returns a dictionary.\n",
    "# The keys of the dictionary will be the numbers, and the values will be string\n",
    "# indicating whether the number is 'Even' or 'Odd'.\n",
    "###############################################################################\n",
    "def even_or_odd_dict(nums):\n",
    "# *****BEGIN YOUR CODE (DO NOT DELETE/MODIFY THIS LINE)*****\n",
    "    even_odd_dict = {}\n",
    "    for num in nums:\n",
    "        if num % 2 == 0:\n",
    "            even_odd_dict[num] = \"Even\"\n",
    "        else:\n",
    "            even_odd_dict[num] = \"Odd\"\n",
    "\n",
    "    return even_odd_dict\n",
    "\n",
    "\n",
    "# *****END OF YOUR CODE (DO NOT DELETE/MODIFY THIS LINE)*****\n",
    "# Testing the function\n",
    "print(\"Even or Odd dictionary [2, 3, 4]:\", even_or_odd_dict([2, 3, 4])) # Output: Even or Odd dictionary [2, 3, 4]: {2: 'Even', 3: 'Odd', 4: 'Even'}"
   ]
  }
 ],
 "metadata": {
  "colab": {
   "provenance": []
  },
  "kernelspec": {
   "display_name": "Python 3 (ipykernel)",
   "language": "python",
   "name": "python3"
  },
  "language_info": {
   "codemirror_mode": {
    "name": "ipython",
    "version": 3
   },
   "file_extension": ".py",
   "mimetype": "text/x-python",
   "name": "python",
   "nbconvert_exporter": "python",
   "pygments_lexer": "ipython3",
   "version": "3.10.7"
  }
 },
 "nbformat": 4,
 "nbformat_minor": 5
}
